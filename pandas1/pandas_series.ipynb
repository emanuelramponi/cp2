{
 "cells": [
  {
   "cell_type": "code",
   "execution_count": 1,
   "metadata": {},
   "outputs": [],
   "source": [
    "import pandas as pd"
   ]
  },
  {
   "cell_type": "code",
   "execution_count": 2,
   "metadata": {},
   "outputs": [],
   "source": [
    "### CREAMOS LISTA\n",
    "lista_peliculas = ['Guardianes de la galaxia','Avengers Endgame','Spiderman']"
   ]
  },
  {
   "cell_type": "code",
   "execution_count": 9,
   "metadata": {},
   "outputs": [],
   "source": [
    "lista1 = pd.Series(lista_peliculas)"
   ]
  },
  {
   "cell_type": "code",
   "execution_count": 4,
   "metadata": {},
   "outputs": [
    {
     "data": {
      "text/plain": [
       "Fase 1    Guardianes de la galaxia\n",
       "Fase 4            Avengers Endgame\n",
       "Fase 2                   Spiderman\n",
       "dtype: object"
      ]
     },
     "execution_count": 4,
     "metadata": {},
     "output_type": "execute_result"
    }
   ],
   "source": [
    "# Cambiamos el index \n",
    "pd.Series(data = lista_peliculas, index = ['Fase 1', 'Fase 4','Fase 2'])"
   ]
  },
  {
   "cell_type": "code",
   "execution_count": 5,
   "metadata": {},
   "outputs": [
    {
     "data": {
      "text/plain": [
       "Fase 1    Guardianes de la galaxia\n",
       "Fase 4            Avengers Endgame\n",
       "Fase 2                   Spiderman\n",
       "dtype: object"
      ]
     },
     "execution_count": 5,
     "metadata": {},
     "output_type": "execute_result"
    }
   ],
   "source": [
    "#Tambien se puede hacer de esta manera\n",
    "pd.Series(lista_peliculas, ['Fase 1', 'Fase 4','Fase 2'])"
   ]
  },
  {
   "cell_type": "code",
   "execution_count": 7,
   "metadata": {},
   "outputs": [
    {
     "data": {
      "text/plain": [
       "Fase 1    Guardianes de la galaxia\n",
       "Fase 4            Avengers Endgame\n",
       "Fase 2                   Spiderman\n",
       "dtype: string"
      ]
     },
     "execution_count": 7,
     "metadata": {},
     "output_type": "execute_result"
    }
   ],
   "source": [
    "pd.__version__\n",
    "#podemos definir el tipo de dato de la serie\n",
    "pd.Series(lista_peliculas, ['Fase 1', 'Fase 4','Fase 2'],dtype= 'string')"
   ]
  },
  {
   "cell_type": "code",
   "execution_count": 14,
   "metadata": {},
   "outputs": [
    {
     "data": {
      "text/plain": [
       "[4, 5, 6]"
      ]
     },
     "execution_count": 14,
     "metadata": {},
     "output_type": "execute_result"
    }
   ],
   "source": [
    "list(pd.RangeIndex(start = 4, stop = 7, step = 1))"
   ]
  },
  {
   "cell_type": "code",
   "execution_count": 26,
   "metadata": {},
   "outputs": [],
   "source": [
    "list(pd.RangeIndex(start = 10, stop = -11, step = -1))\n",
    "\n",
    "lista2 = pd.Series(lista1,(pd.RangeIndex(start=1, stop = 10, step=1)))"
   ]
  },
  {
   "cell_type": "code",
   "execution_count": 28,
   "metadata": {},
   "outputs": [
    {
     "data": {
      "text/plain": [
       "0    Guardianes de la galaxia\n",
       "1            Avengers Endgame\n",
       "2                   Spiderman\n",
       "dtype: object"
      ]
     },
     "execution_count": 28,
     "metadata": {},
     "output_type": "execute_result"
    }
   ],
   "source": [
    "lista1"
   ]
  },
  {
   "cell_type": "code",
   "execution_count": 30,
   "metadata": {},
   "outputs": [
    {
     "data": {
      "text/plain": [
       "dtype('O')"
      ]
     },
     "execution_count": 30,
     "metadata": {},
     "output_type": "execute_result"
    }
   ],
   "source": [
    "# Manera de saber el tipo de dato\n",
    "lista1.dtype"
   ]
  },
  {
   "cell_type": "code",
   "execution_count": 31,
   "metadata": {},
   "outputs": [],
   "source": [
    "#Asignando nombre a la Serie"
   ]
  },
  {
   "cell_type": "code",
   "execution_count": 33,
   "metadata": {},
   "outputs": [],
   "source": [
    "#Primero vemos si el nombre esta vacio\n",
    "lista1.name = None"
   ]
  },
  {
   "cell_type": "code",
   "execution_count": 37,
   "metadata": {},
   "outputs": [
    {
     "data": {
      "text/plain": [
       "0    Guardianes de la galaxia\n",
       "1            Avengers Endgame\n",
       "2                   Spiderman\n",
       "Name: Peliculas de Marvel, dtype: object"
      ]
     },
     "execution_count": 37,
     "metadata": {},
     "output_type": "execute_result"
    }
   ],
   "source": [
    "#Como esta vacio le asignamos un nombre, este nombre a futuro va a ser el nombre de la columna de nuestro dataset\n",
    "lista1.name = 'Peliculas de Marvel'\n",
    "lista1"
   ]
  },
  {
   "cell_type": "code",
   "execution_count": 39,
   "metadata": {},
   "outputs": [],
   "source": [
    "#Ahora le asignamos el nombre del index\n",
    "# Verificamos que esta vacio\n",
    "lista1.index.name = None"
   ]
  },
  {
   "cell_type": "code",
   "execution_count": 42,
   "metadata": {},
   "outputs": [
    {
     "data": {
      "text/plain": [
       "Indice de película\n",
       "0    Guardianes de la galaxia\n",
       "1            Avengers Endgame\n",
       "2                   Spiderman\n",
       "Name: Peliculas de Marvel, dtype: object"
      ]
     },
     "execution_count": 42,
     "metadata": {},
     "output_type": "execute_result"
    }
   ],
   "source": [
    "#Le asignamos un nombre\n",
    "lista1.index.name = 'Indice de película'\n",
    "lista1"
   ]
  }
 ],
 "metadata": {
  "kernelspec": {
   "display_name": "Python 3",
   "language": "python",
   "name": "python3"
  },
  "language_info": {
   "codemirror_mode": {
    "name": "ipython",
    "version": 3
   },
   "file_extension": ".py",
   "mimetype": "text/x-python",
   "name": "python",
   "nbconvert_exporter": "python",
   "pygments_lexer": "ipython3",
   "version": "3.11.1"
  }
 },
 "nbformat": 4,
 "nbformat_minor": 2
}
