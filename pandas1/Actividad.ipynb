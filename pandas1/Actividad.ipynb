{
 "cells": [
  {
   "cell_type": "code",
   "execution_count": 16,
   "metadata": {},
   "outputs": [],
   "source": [
    "import pandas as pd"
   ]
  },
  {
   "cell_type": "code",
   "execution_count": 17,
   "metadata": {},
   "outputs": [
    {
     "data": {
      "text/plain": [
       "['Matthew Perry', 'Jennifer Anniston', 'Lisa Kudrov', 'Matt Leblanc']"
      ]
     },
     "execution_count": 17,
     "metadata": {},
     "output_type": "execute_result"
    }
   ],
   "source": [
    "# 1. Create a python list of lenght 4 contains some of your favoreite actors. \n",
    "# So this should be a list of strings. Call this list--asing it to a variable called actor_names\n",
    "actor_names = ['Matthew Perry','Jennifer Anniston','Lisa Kudrov','Matt Leblanc']\n",
    "actor_names"
   ]
  },
  {
   "cell_type": "code",
   "execution_count": 18,
   "metadata": {},
   "outputs": [
    {
     "data": {
      "text/plain": [
       "[52, 50, 54, 51]"
      ]
     },
     "execution_count": 18,
     "metadata": {},
     "output_type": "execute_result"
    }
   ],
   "source": [
    "# 2. Next, create another python list of the same lenght that contains your guesses for how old each actor is, feel free to just \n",
    "# use integers or floats. Call this list actor_ages\n",
    "actor_ages  = [52,50,54,51]\n",
    "actor_ages"
   ]
  },
  {
   "cell_type": "code",
   "execution_count": 19,
   "metadata": {},
   "outputs": [
    {
     "data": {
      "text/plain": [
       "Matthew Perry        52\n",
       "Jennifer Anniston    50\n",
       "Lisa Kudrov          54\n",
       "Matt Leblanc         51\n",
       "Name: actors, dtype: int64"
      ]
     },
     "execution_count": 19,
     "metadata": {},
     "output_type": "execute_result"
    }
   ],
   "source": [
    "# 3. Create a series that stores actor ages and labels the ages using the actor names. To clarify, use actor names in the index\n",
    "# and actor age as values. Give this series a name of actors.\n",
    "actor_list = pd.Series(actor_ages, actor_names, name='actors')\n",
    "actor_list"
   ]
  },
  {
   "cell_type": "code",
   "execution_count": 20,
   "metadata": {},
   "outputs": [
    {
     "data": {
      "text/plain": [
       "Matthew Perry        52\n",
       "Jennifer Anniston    50\n",
       "Lisa Kudrov          54\n",
       "Matt Leblanc         51\n",
       "Name: actors, dtype: object"
      ]
     },
     "execution_count": 20,
     "metadata": {},
     "output_type": "execute_result"
    }
   ],
   "source": [
    "# BONUS 4\n",
    "# Repeat step 3 but this time create the series from a python dictionary. As an adittional challenge, try not to type dictionary\n",
    "# manually, but instead dynamically create it using the two lists defined in Steps 1 and 2\n",
    "\n",
    "actor_dict= dict(zip(actor_names, actor_ages))\n",
    "\n",
    "# Una vez creado el diccionario lo pasamos a serie\n",
    "\n",
    "pd.Series(actor_dict, name= 'actors',dtype=object)"
   ]
  },
  {
   "cell_type": "code",
   "execution_count": 21,
   "metadata": {},
   "outputs": [
    {
     "data": {
      "text/plain": [
       "{'Matthew Perry': 52,\n",
       " 'Jennifer Anniston': 50,\n",
       " 'Lisa Kudrov': 54,\n",
       " 'Matt Leblanc': 51}"
      ]
     },
     "execution_count": 21,
     "metadata": {},
     "output_type": "execute_result"
    }
   ],
   "source": [
    "# Another Solution\n",
    "dict2 = {name:age for name, age in zip(actor_names, actor_ages)}\n",
    "dict2"
   ]
  },
  {
   "cell_type": "code",
   "execution_count": 22,
   "metadata": {},
   "outputs": [],
   "source": [
    "# Y lo pasamos a serie\n",
    "list2= pd.Series(dict2, name='actors3')"
   ]
  },
  {
   "cell_type": "code",
   "execution_count": 23,
   "metadata": {},
   "outputs": [
    {
     "data": {
      "text/plain": [
       "52    52\n",
       "53    53\n",
       "54    54\n",
       "55    55\n",
       "56    56\n",
       "57    57\n",
       "58    58\n",
       "59    59\n",
       "dtype: int64"
      ]
     },
     "execution_count": 23,
     "metadata": {},
     "output_type": "execute_result"
    }
   ],
   "source": [
    "list2.tail()\n",
    "list4 = pd.Series(range(60))\n",
    "list4.tail(8)"
   ]
  },
  {
   "cell_type": "code",
   "execution_count": 24,
   "metadata": {},
   "outputs": [
    {
     "data": {
      "text/plain": [
       "0    0\n",
       "1    1\n",
       "2    2\n",
       "3    3\n",
       "4    4\n",
       "5    5\n",
       "6    6\n",
       "7    7\n",
       "dtype: int64"
      ]
     },
     "execution_count": 24,
     "metadata": {},
     "output_type": "execute_result"
    }
   ],
   "source": [
    "list4.head(8)"
   ]
  },
  {
   "cell_type": "code",
   "execution_count": 26,
   "metadata": {},
   "outputs": [],
   "source": [
    "# podemos cambiar la cantidad minima que muestre\n",
    "pd.options.display.min_rows = 40"
   ]
  },
  {
   "cell_type": "code",
   "execution_count": null,
   "metadata": {},
   "outputs": [],
   "source": [
    " "
   ]
  }
 ],
 "metadata": {
  "kernelspec": {
   "display_name": "Python 3",
   "language": "python",
   "name": "python3"
  },
  "language_info": {
   "codemirror_mode": {
    "name": "ipython",
    "version": 3
   },
   "file_extension": ".py",
   "mimetype": "text/x-python",
   "name": "python",
   "nbconvert_exporter": "python",
   "pygments_lexer": "ipython3",
   "version": "3.11.1"
  }
 },
 "nbformat": 4,
 "nbformat_minor": 2
}
