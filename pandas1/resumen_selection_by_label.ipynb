{
 "cells": [
  {
   "cell_type": "markdown",
   "metadata": {},
   "source": [
    "Resumen de Selection By label"
   ]
  },
  {
   "cell_type": "markdown",
   "metadata": {},
   "source": [
    "[] idx'ing      ->      series['label']         ->      slices, callables, boolean masks      "
   ]
  },
  {
   "cell_type": "markdown",
   "metadata": {},
   "source": [
    ".loc[] -> series.loc['label'] -> slices, callables, boolean masks"
   ]
  },
  {
   "cell_type": "markdown",
   "metadata": {},
   "source": [
    "dot acccess -> series.label ->  no slice or boolean masks support"
   ]
  },
  {
   "cell_type": "markdown",
   "metadata": {},
   "source": [
    ".get() ->   series.get('label') ->  no slice support, provides default, forgiving"
   ]
  }
 ],
 "metadata": {
  "language_info": {
   "name": "python"
  }
 },
 "nbformat": 4,
 "nbformat_minor": 2
}
