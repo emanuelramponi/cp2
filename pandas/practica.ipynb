{
 "cells": [
  {
   "cell_type": "code",
   "execution_count": 2,
   "metadata": {},
   "outputs": [],
   "source": [
    "import pandas as pd"
   ]
  },
  {
   "cell_type": "code",
   "execution_count": 3,
   "metadata": {},
   "outputs": [],
   "source": [
    "import matplotlib.pyplot as plt\n",
    "import seaborn as sbs"
   ]
  },
  {
   "cell_type": "code",
   "execution_count": 4,
   "metadata": {},
   "outputs": [],
   "source": [
    "#leemos archivo con los tickets de otrs\n",
    "otrs = pd.read_excel(\"C:\\curso_python\\pandas\\otrs_csv.xlsx\")"
   ]
  },
  {
   "cell_type": "code",
   "execution_count": 7,
   "metadata": {},
   "outputs": [],
   "source": [
    "#renombramos la columna \"Downtime ( Min )\" por \"Downtime\"\n",
    "otrs = otrs.rename(\n",
    "    columns = {\n",
    "        \"DownTime ( Min )\" : \"Downtime\"\n",
    "    }\n",
    ")"
   ]
  },
  {
   "cell_type": "code",
   "execution_count": 8,
   "metadata": {},
   "outputs": [],
   "source": [
    "#creando downtime de track\n",
    "track_downtime = otrs[otrs[\"Queue\"].str.contains(\"Track3\")].groupby(\"Queue\",as_index=False)[\"Downtime\"].sum().sort_values(by=\"Downtime\",ascending = False).loc[lambda x : x[\"Downtime\"] > 0]"
   ]
  },
  {
   "cell_type": "code",
   "execution_count": 14,
   "metadata": {},
   "outputs": [],
   "source": [
    "#creando downtime de backoffice\n",
    "backoffice_downtime = otrs[otrs[\"Queue\"].str.contains(\"BackOffice\")].groupby(\"Queue\",as_index=False)[\"Downtime\"].sum().sort_values(by=\"Downtime\",ascending=False).loc[lambda x: x[\"Downtime\"] > 0]"
   ]
  },
  {
   "cell_type": "code",
   "execution_count": 16,
   "metadata": {},
   "outputs": [],
   "source": [
    "#creando downtime de operaciones\n",
    "ncd_downtime = otrs[otrs[\"Queue\"].str.contains(\"Operaciones Coto Digital\")].groupby(\"Queue\",as_index=False)[\"Downtime\"].sum().sort_values(by=\"Downtime\",ascending=False).loc[lambda x:x[\"Downtime\"]>0]"
   ]
  },
  {
   "cell_type": "code",
   "execution_count": null,
   "metadata": {},
   "outputs": [],
   "source": [
    "#grafico de barra con las colas de back office\n",
    "sbs.barplot(x= \"Queue\", y = \"Downtime\", data = backoffice_downtime)\n",
    "plt.show"
   ]
  },
  {
   "cell_type": "code",
   "execution_count": null,
   "metadata": {},
   "outputs": [],
   "source": [
    "\n",
    "# Función para obtener el valor antes del \":\"\n",
    "def obtener_valor(texto):\n",
    "    partes  = texto.split(\":\")\n",
    "    return partes[0] if len(partes) > 0 else \"\"\n",
    "\n",
    "# Aplicar la función a la columna \"Queue\" y crear una nueva columna \"Cola Principal\"\n",
    "otrs['Cola Principal'] = otrs['Queue'].apply(obtener_valor)"
   ]
  },
  {
   "cell_type": "code",
   "execution_count": null,
   "metadata": {},
   "outputs": [],
   "source": [
    "#cambio de nombre la columna Created a Fecha\n",
    "otrs = otrs.rename (\n",
    "    columns= {\n",
    "        \"Created\" : \"Fecha\"\n",
    "    }\n",
    ")"
   ]
  },
  {
   "cell_type": "code",
   "execution_count": null,
   "metadata": {},
   "outputs": [],
   "source": [
    "#separo la columna para solamente tener la fecha sin la hora ni la region\n",
    "#se dividen las columnas y obtengo la posicion 0\n",
    "otrs[\"Fecha\"] = otrs[\"Fecha\"].str.split(' ').str[0]\n",
    "otrs[\"Fecha\"]= pd.to_datetime(otrs[\"Fecha\"])"
   ]
  },
  {
   "cell_type": "code",
   "execution_count": 104,
   "metadata": {},
   "outputs": [],
   "source": [
    "downtime_general = otrs.groupby(\"Cola Principal\",as_index=False)[\"Downtime\"].sum().sort_values(by=\"Downtime\",ascending=False)"
   ]
  },
  {
   "cell_type": "code",
   "execution_count": 79,
   "metadata": {},
   "outputs": [],
   "source": [
    "#agregar columna con la cantidad de tickets de cada cola\n",
    "#agregar la suma de tiempo trabajado de cada cola\n",
    "#separar el alcance que tuvo cada cola"
   ]
  },
  {
   "cell_type": "code",
   "execution_count": 86,
   "metadata": {},
   "outputs": [
    {
     "data": {
      "text/html": [
       "<div>\n",
       "<style scoped>\n",
       "    .dataframe tbody tr th:only-of-type {\n",
       "        vertical-align: middle;\n",
       "    }\n",
       "\n",
       "    .dataframe tbody tr th {\n",
       "        vertical-align: top;\n",
       "    }\n",
       "\n",
       "    .dataframe thead th {\n",
       "        text-align: right;\n",
       "    }\n",
       "</style>\n",
       "<table border=\"1\" class=\"dataframe\">\n",
       "  <thead>\n",
       "    <tr style=\"text-align: right;\">\n",
       "      <th></th>\n",
       "      <th>Cola Principal</th>\n",
       "      <th>Downtime</th>\n",
       "    </tr>\n",
       "  </thead>\n",
       "  <tbody>\n",
       "    <tr>\n",
       "      <th>7</th>\n",
       "      <td>Multistore</td>\n",
       "      <td>1023.0</td>\n",
       "    </tr>\n",
       "    <tr>\n",
       "      <th>8</th>\n",
       "      <td>Operaciones Coto Digital</td>\n",
       "      <td>918.0</td>\n",
       "    </tr>\n",
       "    <tr>\n",
       "      <th>2</th>\n",
       "      <td>BackOffice</td>\n",
       "      <td>443.0</td>\n",
       "    </tr>\n",
       "    <tr>\n",
       "      <th>11</th>\n",
       "      <td>Track3</td>\n",
       "      <td>435.0</td>\n",
       "    </tr>\n",
       "    <tr>\n",
       "      <th>5</th>\n",
       "      <td>Comunicaciones</td>\n",
       "      <td>242.0</td>\n",
       "    </tr>\n",
       "    <tr>\n",
       "      <th>10</th>\n",
       "      <td>Sitio</td>\n",
       "      <td>210.0</td>\n",
       "    </tr>\n",
       "    <tr>\n",
       "      <th>3</th>\n",
       "      <td>Base de Datos</td>\n",
       "      <td>46.0</td>\n",
       "    </tr>\n",
       "    <tr>\n",
       "      <th>9</th>\n",
       "      <td>Seguridad de la Informacion</td>\n",
       "      <td>45.0</td>\n",
       "    </tr>\n",
       "    <tr>\n",
       "      <th>0</th>\n",
       "      <td>AIX</td>\n",
       "      <td>0.0</td>\n",
       "    </tr>\n",
       "    <tr>\n",
       "      <th>1</th>\n",
       "      <td>Administracion NT</td>\n",
       "      <td>0.0</td>\n",
       "    </tr>\n",
       "    <tr>\n",
       "      <th>4</th>\n",
       "      <td>Comerciales</td>\n",
       "      <td>0.0</td>\n",
       "    </tr>\n",
       "    <tr>\n",
       "      <th>6</th>\n",
       "      <td>Junk</td>\n",
       "      <td>0.0</td>\n",
       "    </tr>\n",
       "  </tbody>\n",
       "</table>\n",
       "</div>"
      ],
      "text/plain": [
       "                 Cola Principal  Downtime\n",
       "7                    Multistore    1023.0\n",
       "8      Operaciones Coto Digital     918.0\n",
       "2                    BackOffice     443.0\n",
       "11                       Track3     435.0\n",
       "5                Comunicaciones     242.0\n",
       "10                        Sitio     210.0\n",
       "3                 Base de Datos      46.0\n",
       "9   Seguridad de la Informacion      45.0\n",
       "0                           AIX       0.0\n",
       "1             Administracion NT       0.0\n",
       "4                   Comerciales       0.0\n",
       "6                          Junk       0.0"
      ]
     },
     "execution_count": 86,
     "metadata": {},
     "output_type": "execute_result"
    }
   ],
   "source": [
    "downtime_general"
   ]
  }
 ],
 "metadata": {
  "kernelspec": {
   "display_name": "Python 3",
   "language": "python",
   "name": "python3"
  },
  "language_info": {
   "codemirror_mode": {
    "name": "ipython",
    "version": 3
   },
   "file_extension": ".py",
   "mimetype": "text/x-python",
   "name": "python",
   "nbconvert_exporter": "python",
   "pygments_lexer": "ipython3",
   "version": "3.11.1"
  },
  "orig_nbformat": 4
 },
 "nbformat": 4,
 "nbformat_minor": 2
}
