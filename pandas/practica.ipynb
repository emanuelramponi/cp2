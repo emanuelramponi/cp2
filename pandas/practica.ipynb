{
 "cells": [
  {
   "cell_type": "code",
   "execution_count": null,
   "metadata": {},
   "outputs": [],
   "source": [
    "import pandas as pd\n",
    "import matplotlib.pyplot as plt\n",
    "import seaborn as sbs"
   ]
  },
  {
   "cell_type": "markdown",
   "metadata": {},
   "source": []
  },
  {
   "cell_type": "code",
   "execution_count": null,
   "metadata": {},
   "outputs": [],
   "source": [
    "#leemos archivo con los tickets de otrs\n",
    "otrs = pd.read_excel(\"C:\\curso_python\\pandas\\otrs_csv.xlsx\")"
   ]
  },
  {
   "cell_type": "code",
   "execution_count": null,
   "metadata": {},
   "outputs": [],
   "source": [
    "#renombramos la columna \"Downtime ( Min )\" por \"Downtime\"\n",
    "otrs = otrs.rename(\n",
    "    columns = {\n",
    "        \"DownTime ( Min )\" : \"Downtime\",\n",
    "        \"Created\" : \"Fecha\"\n",
    "    }\n",
    ")\n",
    "\n",
    "# Función para obtener el valor antes desl \":\"\n",
    "def obtener_valor(texto):\n",
    "    partes  = texto.split(\":\")\n",
    "    return partes[0] if len(partes) > 0 else \"\"\n",
    "\n",
    "# Aplicar la función a la columna \"Queue\" y crear una nueva columna \"Cola Principal\"\n",
    "otrs['Cola Principal'] = otrs['Queue'].apply(obtener_valor)\n",
    "\n",
    "#separo la columna para solamente tener la fecha sin la hora ni la region\n",
    "#se dividen las columnas y obtengo la posicion 0\n",
    "otrs[\"Fecha\"] = otrs[\"Fecha\"].str.split(' ').str[0]\n",
    "otrs[\"Fecha\"] = pd.to_datetime(otrs[\"Fecha\"])"
   ]
  },
  {
   "cell_type": "code",
   "execution_count": null,
   "metadata": {},
   "outputs": [],
   "source": [
    "#creando downtime de cada cola principal desglosada\n",
    "track_downtime = otrs[otrs[\"Cola Principal\"]==\"Track3\"].groupby(\"Queue\",as_index=False)[\"Downtime\"].sum().sort_values(by=\"Downtime\",ascending = False).loc[lambda x : x[\"Downtime\"] > 0]\n",
    "\n",
    "backoffice_downtime = otrs[otrs[\"Cola Principal\"] == \"BackOffice\"].groupby(\"Queue\",as_index=False)[\"Downtime\"].sum().sort_values(by=\"Downtime\",ascending=False).loc[lambda x: x[\"Downtime\"] > 0]\n",
    "\n",
    "ncd_downtime = otrs[otrs[\"Cola Principal\"] == \"Operaciones Coto Digital\"].groupby(\"Queue\",as_index=False)[\"Downtime\"].sum().sort_values(by=\"Downtime\",ascending=False).loc[lambda x:x[\"Downtime\"]>0]"
   ]
  },
  {
   "cell_type": "code",
   "execution_count": null,
   "metadata": {},
   "outputs": [],
   "source": [
    "downtime_general = otrs.groupby(\"Cola Principal\",as_index=False)[\"Downtime\"].sum().sort_values(by=\"Downtime\",ascending=False)"
   ]
  },
  {
   "cell_type": "code",
   "execution_count": null,
   "metadata": {},
   "outputs": [],
   "source": [
    "#cantidad de tickets por Cola Principal\n",
    "conteo_tickets_por_cola_principal = otrs.groupby(\"Cola Principal\", as_index=False)[\"Ticket#\"].count()\n",
    "\n",
    "#cantidad de tickets por Cola\n",
    "conteo_tickets_por_cola = otrs.groupby(\"Queue\",as_index=False)[\"Ticket#\"].count()\n"
   ]
  },
  {
   "cell_type": "code",
   "execution_count": null,
   "metadata": {},
   "outputs": [],
   "source": [
    "#tiempo trabajado por cola principal\n",
    "tiempo_trabajado_por_cola_principal = otrs.groupby(\"Cola Principal\",as_index=False)[\"Accounted time\"].sum().sort_values(by=\"Accounted time\",ascending=False)\n",
    "\n",
    "#tiempo trabajado por cola\n",
    "tiempo_trabajado_por_cola = otrs.groupby(\"Queue\",as_index=False)[\"Accounted time\"].sum().sort_values(by=\"Accounted time\",ascending=False).loc[lambda x : x[\"Accounted time\"]> 0]"
   ]
  }
 ],
 "metadata": {
  "kernelspec": {
   "display_name": "Python 3",
   "language": "python",
   "name": "python3"
  },
  "language_info": {
   "codemirror_mode": {
    "name": "ipython",
    "version": 3
   },
   "file_extension": ".py",
   "mimetype": "text/x-python",
   "name": "python",
   "nbconvert_exporter": "python",
   "pygments_lexer": "ipython3",
   "version": "3.11.1"
  },
  "orig_nbformat": 4
 },
 "nbformat": 4,
 "nbformat_minor": 2
}
